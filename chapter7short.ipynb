{
 "cells": [
  {
   "cell_type": "code",
   "execution_count": 1,
   "metadata": {
    "collapsed": false
   },
   "outputs": [
    {
     "name": "stdout",
     "output_type": "stream",
     "text": [
      "Dammit I'm mad\n",
      "Evil is a deed as I live.\n",
      "God, am I reviled?\n",
      "I rise, my bed on a sun, I melt.\n",
      "To be not one man emanating is sad. I piss.\n",
      "Alas it is so late. Who stops to help? Man, it is hot.\n",
      " \n",
      "I'm in it.\n",
      "I tell.\n",
      "I am not a devil.\n",
      "I level \"Mad Dog\".\n",
      " \n",
      "Ah, say burning is as a deified gulp\n",
      "in my halo of a mired rum tin.\n",
      "I erase many men. Oh, to be man, a sin.\n",
      "Is evil in a clam? In a trap?\n",
      "No. It is open.\n",
      "On it I was stuck.\n",
      " \n",
      "Rats peed on hope.\n",
      "Elsewhere dips a web.\n",
      "Be still if I fill its ebb.\n",
      "Ew, a spider ... eh?\n",
      "We sleep.\n",
      " \n",
      "Oh no!\n",
      "Deep, stark cuts saw it in one position.\n",
      "Part animal, can I live? Sin is a name.\n",
      "Both, one ... my names are in it. Murder?\n",
      "I'm a fool. A hymn I plug,\n",
      "Deified as a sign in ruby ash - a Goddam level I lived at.\n",
      " \n",
      "On mail let it in. I'm it.\n",
      "Oh, sit in ample hot spots.\n",
      "Oh, wet!\n",
      "A loss it is alas (sip). I'd assign it a name.\n",
      "Name not one bottle minus an ode by me:\n",
      "\"Sir, I deliver. I'm a dog.\"\n",
      "Evil is a deed as I live.\n",
      "Dammit I'm mad.\n"
     ]
    }
   ],
   "source": [
    "source = open('palindromepoem.txt')\n",
    "straka = source.read()\n",
    "print straka[:1000]"
   ]
  },
  {
   "cell_type": "code",
   "execution_count": 2,
   "metadata": {
    "collapsed": true
   },
   "outputs": [],
   "source": [
    "import re"
   ]
  },
  {
   "cell_type": "code",
   "execution_count": 3,
   "metadata": {
    "collapsed": true
   },
   "outputs": [],
   "source": [
    "def prep(text):\n",
    "    return re.sub('\\W+', '', text)"
   ]
  },
  {
   "cell_type": "code",
   "execution_count": 4,
   "metadata": {
    "collapsed": true
   },
   "outputs": [],
   "source": [
    "def pal(word):\n",
    "    return word.lower() == word[::-1].lower()"
   ]
  },
  {
   "cell_type": "code",
   "execution_count": 5,
   "metadata": {
    "collapsed": false
   },
   "outputs": [
    {
     "data": {
      "text/plain": [
       "True"
      ]
     },
     "execution_count": 5,
     "metadata": {},
     "output_type": "execute_result"
    }
   ],
   "source": [
    "pal(prep(straka))"
   ]
  },
  {
   "cell_type": "code",
   "execution_count": 6,
   "metadata": {
    "collapsed": true
   },
   "outputs": [],
   "source": [
    "def palmulti(name):\n",
    "    result = ''\n",
    "    names = name.split()\n",
    "    for word in names:\n",
    "        wordrevised = re.sub('\\W+', '', word)\n",
    "        if wordrevised == 'Ss':\n",
    "            result = result\n",
    "        elif len(wordrevised) == 1:\n",
    "            result = result\n",
    "        elif wordrevised.lower() == 'did':\n",
    "            result = result\n",
    "        elif wordrevised.lower() == wordrevised[::-1].lower():\n",
    "            result = result + ' ' + wordrevised\n",
    "    return result"
   ]
  },
  {
   "cell_type": "code",
   "execution_count": 7,
   "metadata": {
    "collapsed": false
   },
   "outputs": [
    {
     "data": {
      "text/plain": [
       "' deed level deified   Deified  level deed'"
      ]
     },
     "execution_count": 7,
     "metadata": {},
     "output_type": "execute_result"
    }
   ],
   "source": [
    "palmulti(straka)"
   ]
  },
  {
   "cell_type": "code",
   "execution_count": 8,
   "metadata": {
    "collapsed": true
   },
   "outputs": [],
   "source": [
    "#Straka chapter"
   ]
  },
  {
   "cell_type": "code",
   "execution_count": 9,
   "metadata": {
    "collapsed": false
   },
   "outputs": [
    {
     "name": "stdout",
     "output_type": "stream",
     "text": [
      "destroyed. But it must circulate. It must not be contained. And Vévoda\n",
      "is the one who contains it. Thus the task remains. When he and Sola have\n",
      "completed it, they will ascend these corridors and reemerge into the\n",
      "world. There may be Agents waiting, but there will be more workers, and\n",
      "they will all carry axes and chisels and any other implements they can\n",
      "use to destroy these barrels and let the black wine- He sniffs: a rank\n",
      "smell cutting through the olfactory fog of blue-black and earth. He\n",
      "recognizes it at the very moment he feels the tug on his trouser leg.\n",
      "The monkey, somehow, looks to be in much more vigorous health, and from\n",
      "its toothless mouth comes a vocalization of a sort that S. has never\n",
      "heard from it, free from taunt or condescension or irritation. It\n",
      "sounds-and here, S. wonders if the air in the cellars is fogging his\n",
      "mind-as if the monkey is mimicking the run of notes in S’s last\n",
      "whistle-call to Sola. The monkey raises one hand, showing S. a jagged\n",
      "chunk of dark-gray roc\n"
     ]
    }
   ],
   "source": [
    "source = open('straka_chapter.txt')\n",
    "straka = source.read()\n",
    "print straka[:1000]"
   ]
  },
  {
   "cell_type": "code",
   "execution_count": 10,
   "metadata": {
    "collapsed": true
   },
   "outputs": [],
   "source": [
    "import re"
   ]
  },
  {
   "cell_type": "code",
   "execution_count": 11,
   "metadata": {
    "collapsed": true
   },
   "outputs": [],
   "source": [
    "def prep(text):\n",
    "    return re.sub('\\W+', '', text)"
   ]
  },
  {
   "cell_type": "code",
   "execution_count": 12,
   "metadata": {
    "collapsed": true
   },
   "outputs": [],
   "source": [
    "def pal(word):\n",
    "    return word.lower() == word[::-1].lower()"
   ]
  },
  {
   "cell_type": "code",
   "execution_count": 13,
   "metadata": {
    "collapsed": false
   },
   "outputs": [
    {
     "data": {
      "text/plain": [
       "False"
      ]
     },
     "execution_count": 13,
     "metadata": {},
     "output_type": "execute_result"
    }
   ],
   "source": [
    "pal(prep(straka))"
   ]
  },
  {
   "cell_type": "code",
   "execution_count": 14,
   "metadata": {
    "collapsed": true
   },
   "outputs": [],
   "source": [
    "def palmulti(name):\n",
    "    result = ''\n",
    "    names = name.split()\n",
    "    for word in names:\n",
    "        wordrevised = re.sub('\\W+', '', word)\n",
    "        if wordrevised == 'Ss':\n",
    "            result = result\n",
    "        elif len(wordrevised) == 1:\n",
    "            result = result\n",
    "        elif wordrevised.lower() == 'did':\n",
    "            result = result\n",
    "        elif wordrevised.lower() == wordrevised[::-1].lower():\n",
    "            result = result + ' ' + wordrevised\n",
    "    return result"
   ]
  },
  {
   "cell_type": "code",
   "execution_count": 15,
   "metadata": {
    "collapsed": false
   },
   "outputs": [
    {
     "data": {
      "text/plain": [
       "' eye level sees sees sees sees eye'"
      ]
     },
     "execution_count": 15,
     "metadata": {},
     "output_type": "execute_result"
    }
   ],
   "source": [
    "palmulti(straka)"
   ]
  },
  {
   "cell_type": "code",
   "execution_count": 16,
   "metadata": {
    "collapsed": true
   },
   "outputs": [],
   "source": [
    "#Part 2"
   ]
  },
  {
   "cell_type": "code",
   "execution_count": 23,
   "metadata": {
    "collapsed": true
   },
   "outputs": [],
   "source": [
    "# straka_chapter:"
   ]
  },
  {
   "cell_type": "code",
   "execution_count": 25,
   "metadata": {
    "collapsed": true
   },
   "outputs": [],
   "source": [
    "# \"you\" word search: 42\n",
    "# regular expression search: 40"
   ]
  },
  {
   "cell_type": "code",
   "execution_count": 19,
   "metadata": {
    "collapsed": true
   },
   "outputs": [],
   "source": [
    "# Version 288:\n",
    "# \"you\": 2\n",
    "# regular expression: 0"
   ]
  },
  {
   "cell_type": "code",
   "execution_count": 20,
   "metadata": {
    "collapsed": true
   },
   "outputs": [],
   "source": [
    "# Version 289:\n",
    "# \"you\": 1\n",
    "# regular expression: 0"
   ]
  },
  {
   "cell_type": "code",
   "execution_count": 21,
   "metadata": {
    "collapsed": true
   },
   "outputs": [],
   "source": [
    "# Version 290:\n",
    "# \"you\": 0\n",
    "# regular expression: 0"
   ]
  },
  {
   "cell_type": "code",
   "execution_count": 22,
   "metadata": {
    "collapsed": true
   },
   "outputs": [],
   "source": [
    "# Version 291:\n",
    "# \"you\": 2\n",
    "# regular expression: 0"
   ]
  },
  {
   "cell_type": "code",
   "execution_count": 26,
   "metadata": {
    "collapsed": true
   },
   "outputs": [],
   "source": [
    "# dorst_chapter:\n",
    "# \"you\": 68\n",
    "# regular expression: 13"
   ]
  },
  {
   "cell_type": "code",
   "execution_count": null,
   "metadata": {
    "collapsed": true
   },
   "outputs": [],
   "source": []
  }
 ],
 "metadata": {
  "kernelspec": {
   "display_name": "Python 2",
   "language": "python",
   "name": "python2"
  },
  "language_info": {
   "codemirror_mode": {
    "name": "ipython",
    "version": 2
   },
   "file_extension": ".py",
   "mimetype": "text/x-python",
   "name": "python",
   "nbconvert_exporter": "python",
   "pygments_lexer": "ipython2",
   "version": "2.7.13"
  }
 },
 "nbformat": 4,
 "nbformat_minor": 2
}
